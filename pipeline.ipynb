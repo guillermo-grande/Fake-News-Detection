{
 "cells": [
  {
   "cell_type": "markdown",
   "metadata": {},
   "source": [
    "#  Imports"
   ]
  },
  {
   "cell_type": "code",
   "execution_count": 13,
   "metadata": {},
   "outputs": [],
   "source": [
    "import pandas as pd\n",
    "import numpy as np\n",
    "import matplotlib.pyplot as plt\n",
    "\n",
    "from sklearn.model_selection import train_test_split\n",
    "\n",
    "import nltk\n",
    "import re\n",
    "import string\n",
    "import spacy\n",
    "import contractions\n"
   ]
  },
  {
   "cell_type": "markdown",
   "metadata": {},
   "source": [
    "# Carga de datos"
   ]
  },
  {
   "cell_type": "code",
   "execution_count": 14,
   "metadata": {},
   "outputs": [],
   "source": [
    "# Cargar datos de Kaggle\n",
    "df_fake = pd.read_csv(\"Fake.csv\") # Noticias falsas\n",
    "df_real = pd.read_csv(\"True.csv\") # Noticias verdaderas\n",
    "\n",
    "# Agregar columna de etiquetas\n",
    "df_fake[\"label\"] = 0\n",
    "df_real[\"label\"] = 1\n",
    "\n",
    "# Subject y Data no nos interesa\n",
    "df_fake.drop([\"subject\", \"date\"], axis=1, inplace=True)\n",
    "df_real.drop([\"subject\", \"date\"], axis=1, inplace=True)"
   ]
  },
  {
   "cell_type": "code",
   "execution_count": 15,
   "metadata": {},
   "outputs": [
    {
     "name": "stdout",
     "output_type": "stream",
     "text": [
      "(23481, 3)\n"
     ]
    },
    {
     "data": {
      "text/html": [
       "<div>\n",
       "<style scoped>\n",
       "    .dataframe tbody tr th:only-of-type {\n",
       "        vertical-align: middle;\n",
       "    }\n",
       "\n",
       "    .dataframe tbody tr th {\n",
       "        vertical-align: top;\n",
       "    }\n",
       "\n",
       "    .dataframe thead th {\n",
       "        text-align: right;\n",
       "    }\n",
       "</style>\n",
       "<table border=\"1\" class=\"dataframe\">\n",
       "  <thead>\n",
       "    <tr style=\"text-align: right;\">\n",
       "      <th></th>\n",
       "      <th>title</th>\n",
       "      <th>text</th>\n",
       "      <th>label</th>\n",
       "    </tr>\n",
       "  </thead>\n",
       "  <tbody>\n",
       "    <tr>\n",
       "      <th>0</th>\n",
       "      <td>Donald Trump Sends Out Embarrassing New Year’...</td>\n",
       "      <td>Donald Trump just couldn t wish all Americans ...</td>\n",
       "      <td>0</td>\n",
       "    </tr>\n",
       "    <tr>\n",
       "      <th>1</th>\n",
       "      <td>Drunk Bragging Trump Staffer Started Russian ...</td>\n",
       "      <td>House Intelligence Committee Chairman Devin Nu...</td>\n",
       "      <td>0</td>\n",
       "    </tr>\n",
       "    <tr>\n",
       "      <th>2</th>\n",
       "      <td>Sheriff David Clarke Becomes An Internet Joke...</td>\n",
       "      <td>On Friday, it was revealed that former Milwauk...</td>\n",
       "      <td>0</td>\n",
       "    </tr>\n",
       "    <tr>\n",
       "      <th>3</th>\n",
       "      <td>Trump Is So Obsessed He Even Has Obama’s Name...</td>\n",
       "      <td>On Christmas day, Donald Trump announced that ...</td>\n",
       "      <td>0</td>\n",
       "    </tr>\n",
       "    <tr>\n",
       "      <th>4</th>\n",
       "      <td>Pope Francis Just Called Out Donald Trump Dur...</td>\n",
       "      <td>Pope Francis used his annual Christmas Day mes...</td>\n",
       "      <td>0</td>\n",
       "    </tr>\n",
       "  </tbody>\n",
       "</table>\n",
       "</div>"
      ],
      "text/plain": [
       "                                               title  \\\n",
       "0   Donald Trump Sends Out Embarrassing New Year’...   \n",
       "1   Drunk Bragging Trump Staffer Started Russian ...   \n",
       "2   Sheriff David Clarke Becomes An Internet Joke...   \n",
       "3   Trump Is So Obsessed He Even Has Obama’s Name...   \n",
       "4   Pope Francis Just Called Out Donald Trump Dur...   \n",
       "\n",
       "                                                text  label  \n",
       "0  Donald Trump just couldn t wish all Americans ...      0  \n",
       "1  House Intelligence Committee Chairman Devin Nu...      0  \n",
       "2  On Friday, it was revealed that former Milwauk...      0  \n",
       "3  On Christmas day, Donald Trump announced that ...      0  \n",
       "4  Pope Francis used his annual Christmas Day mes...      0  "
      ]
     },
     "execution_count": 15,
     "metadata": {},
     "output_type": "execute_result"
    }
   ],
   "source": [
    "print(df_fake.shape)\n",
    "df_fake.head()"
   ]
  },
  {
   "cell_type": "code",
   "execution_count": 16,
   "metadata": {},
   "outputs": [
    {
     "name": "stdout",
     "output_type": "stream",
     "text": [
      "(21417, 3)\n"
     ]
    },
    {
     "data": {
      "text/html": [
       "<div>\n",
       "<style scoped>\n",
       "    .dataframe tbody tr th:only-of-type {\n",
       "        vertical-align: middle;\n",
       "    }\n",
       "\n",
       "    .dataframe tbody tr th {\n",
       "        vertical-align: top;\n",
       "    }\n",
       "\n",
       "    .dataframe thead th {\n",
       "        text-align: right;\n",
       "    }\n",
       "</style>\n",
       "<table border=\"1\" class=\"dataframe\">\n",
       "  <thead>\n",
       "    <tr style=\"text-align: right;\">\n",
       "      <th></th>\n",
       "      <th>title</th>\n",
       "      <th>text</th>\n",
       "      <th>label</th>\n",
       "    </tr>\n",
       "  </thead>\n",
       "  <tbody>\n",
       "    <tr>\n",
       "      <th>0</th>\n",
       "      <td>As U.S. budget fight looms, Republicans flip t...</td>\n",
       "      <td>WASHINGTON (Reuters) - The head of a conservat...</td>\n",
       "      <td>1</td>\n",
       "    </tr>\n",
       "    <tr>\n",
       "      <th>1</th>\n",
       "      <td>U.S. military to accept transgender recruits o...</td>\n",
       "      <td>WASHINGTON (Reuters) - Transgender people will...</td>\n",
       "      <td>1</td>\n",
       "    </tr>\n",
       "    <tr>\n",
       "      <th>2</th>\n",
       "      <td>Senior U.S. Republican senator: 'Let Mr. Muell...</td>\n",
       "      <td>WASHINGTON (Reuters) - The special counsel inv...</td>\n",
       "      <td>1</td>\n",
       "    </tr>\n",
       "    <tr>\n",
       "      <th>3</th>\n",
       "      <td>FBI Russia probe helped by Australian diplomat...</td>\n",
       "      <td>WASHINGTON (Reuters) - Trump campaign adviser ...</td>\n",
       "      <td>1</td>\n",
       "    </tr>\n",
       "    <tr>\n",
       "      <th>4</th>\n",
       "      <td>Trump wants Postal Service to charge 'much mor...</td>\n",
       "      <td>SEATTLE/WASHINGTON (Reuters) - President Donal...</td>\n",
       "      <td>1</td>\n",
       "    </tr>\n",
       "  </tbody>\n",
       "</table>\n",
       "</div>"
      ],
      "text/plain": [
       "                                               title  \\\n",
       "0  As U.S. budget fight looms, Republicans flip t...   \n",
       "1  U.S. military to accept transgender recruits o...   \n",
       "2  Senior U.S. Republican senator: 'Let Mr. Muell...   \n",
       "3  FBI Russia probe helped by Australian diplomat...   \n",
       "4  Trump wants Postal Service to charge 'much mor...   \n",
       "\n",
       "                                                text  label  \n",
       "0  WASHINGTON (Reuters) - The head of a conservat...      1  \n",
       "1  WASHINGTON (Reuters) - Transgender people will...      1  \n",
       "2  WASHINGTON (Reuters) - The special counsel inv...      1  \n",
       "3  WASHINGTON (Reuters) - Trump campaign adviser ...      1  \n",
       "4  SEATTLE/WASHINGTON (Reuters) - President Donal...      1  "
      ]
     },
     "execution_count": 16,
     "metadata": {},
     "output_type": "execute_result"
    }
   ],
   "source": [
    "print(df_real.shape)\n",
    "df_real.head()"
   ]
  },
  {
   "cell_type": "code",
   "execution_count": 17,
   "metadata": {},
   "outputs": [
    {
     "name": "stdout",
     "output_type": "stream",
     "text": [
      "Porcentaje de balanceo de clases:\n",
      "Fake:  0.5229854336496058\n",
      "Real:  0.47701456635039424\n"
     ]
    }
   ],
   "source": [
    "print(\"Porcentaje de balanceo de clases:\")\n",
    "print(\"Fake: \", df_fake.shape[0]/(df_fake.shape[0]+df_real.shape[0]))\n",
    "print(\"Real: \", df_real.shape[0]/(df_fake.shape[0]+df_real.shape[0]))"
   ]
  },
  {
   "cell_type": "code",
   "execution_count": 18,
   "metadata": {},
   "outputs": [
    {
     "name": "stdout",
     "output_type": "stream",
     "text": [
      "Primera noticia fake:\n",
      "Title:   Donald Trump Sends Out Embarrassing New Year’s Eve Message; This is Disturbing\n",
      "Text:  Donald Trump just couldn t wish all Americans a Happy New Year and leave it at that. Instead, he had to give a shout out to his enemies, haters and  the very dishonest fake news media.  The former reality show star had just one job to do and he couldn t do it. As our Country rapidly grows stronger and smarter, I want to wish all of my friends, supporters, enemies, haters, and even the very dishonest Fake News Media, a Happy and Healthy New Year,  President Angry Pants tweeted.  2018 will be a great year for America! As our Country rapidly grows stronger and smarter, I want to wish all of my friends, supporters, enemies, haters, and even the very dishonest Fake News Media, a Happy and Healthy New Year. 2018 will be a great year for America!  Donald J. Trump (@realDonaldTrump) December 31, 2017Trump s tweet went down about as welll as you d expect.What kind of president sends a New Year s greeting like this despicable, petty, infantile gibberish? Only Trump! His lack of decency won t even allow him to rise above the gutter long enough to wish the American citizens a happy new year!  Bishop Talbert Swan (@TalbertSwan) December 31, 2017no one likes you  Calvin (@calvinstowell) December 31, 2017Your impeachment would make 2018 a great year for America, but I ll also accept regaining control of Congress.  Miranda Yaver (@mirandayaver) December 31, 2017Do you hear yourself talk? When you have to include that many people that hate you you have to wonder? Why do the they all hate me?  Alan Sandoval (@AlanSandoval13) December 31, 2017Who uses the word Haters in a New Years wish??  Marlene (@marlene399) December 31, 2017You can t just say happy new year?  Koren pollitt (@Korencarpenter) December 31, 2017Here s Trump s New Year s Eve tweet from 2016.Happy New Year to all, including to my many enemies and those who have fought me and lost so badly they just don t know what to do. Love!  Donald J. Trump (@realDonaldTrump) December 31, 2016This is nothing new for Trump. He s been doing this for years.Trump has directed messages to his  enemies  and  haters  for New Year s, Easter, Thanksgiving, and the anniversary of 9/11. pic.twitter.com/4FPAe2KypA  Daniel Dale (@ddale8) December 31, 2017Trump s holiday tweets are clearly not presidential.How long did he work at Hallmark before becoming President?  Steven Goodine (@SGoodine) December 31, 2017He s always been like this . . . the only difference is that in the last few years, his filter has been breaking down.  Roy Schulze (@thbthttt) December 31, 2017Who, apart from a teenager uses the term haters?  Wendy (@WendyWhistles) December 31, 2017he s a fucking 5 year old  Who Knows (@rainyday80) December 31, 2017So, to all the people who voted for this a hole thinking he would change once he got into power, you were wrong! 70-year-old men don t change and now he s a year older.Photo by Andrew Burton/Getty Images.\n",
      "Primera noticia real:\n",
      "Title:  As U.S. budget fight looms, Republicans flip their fiscal script\n",
      "Text:  WASHINGTON (Reuters) - The head of a conservative Republican faction in the U.S. Congress, who voted this month for a huge expansion of the national debt to pay for tax cuts, called himself a “fiscal conservative” on Sunday and urged budget restraint in 2018. In keeping with a sharp pivot under way among Republicans, U.S. Representative Mark Meadows, speaking on CBS’ “Face the Nation,” drew a hard line on federal spending, which lawmakers are bracing to do battle over in January. When they return from the holidays on Wednesday, lawmakers will begin trying to pass a federal budget in a fight likely to be linked to other issues, such as immigration policy, even as the November congressional election campaigns approach in which Republicans will seek to keep control of Congress. President Donald Trump and his Republicans want a big budget increase in military spending, while Democrats also want proportional increases for non-defense “discretionary” spending on programs that support education, scientific research, infrastructure, public health and environmental protection. “The (Trump) administration has already been willing to say: ‘We’re going to increase non-defense discretionary spending ... by about 7 percent,’” Meadows, chairman of the small but influential House Freedom Caucus, said on the program. “Now, Democrats are saying that’s not enough, we need to give the government a pay raise of 10 to 11 percent. For a fiscal conservative, I don’t see where the rationale is. ... Eventually you run out of other people’s money,” he said. Meadows was among Republicans who voted in late December for their party’s debt-financed tax overhaul, which is expected to balloon the federal budget deficit and add about $1.5 trillion over 10 years to the $20 trillion national debt. “It’s interesting to hear Mark talk about fiscal responsibility,” Democratic U.S. Representative Joseph Crowley said on CBS. Crowley said the Republican tax bill would require the  United States to borrow $1.5 trillion, to be paid off by future generations, to finance tax cuts for corporations and the rich. “This is one of the least ... fiscally responsible bills we’ve ever seen passed in the history of the House of Representatives. I think we’re going to be paying for this for many, many years to come,” Crowley said. Republicans insist the tax package, the biggest U.S. tax overhaul in more than 30 years,  will boost the economy and job growth. House Speaker Paul Ryan, who also supported the tax bill, recently went further than Meadows, making clear in a radio interview that welfare or “entitlement reform,” as the party often calls it, would be a top Republican priority in 2018. In Republican parlance, “entitlement” programs mean food stamps, housing assistance, Medicare and Medicaid health insurance for the elderly, poor and disabled, as well as other programs created by Washington to assist the needy. Democrats seized on Ryan’s early December remarks, saying they showed Republicans would try to pay for their tax overhaul by seeking spending cuts for social programs. But the goals of House Republicans may have to take a back seat to the Senate, where the votes of some Democrats will be needed to approve a budget and prevent a government shutdown. Democrats will use their leverage in the Senate, which Republicans narrowly control, to defend both discretionary non-defense programs and social spending, while tackling the issue of the “Dreamers,” people brought illegally to the country as children. Trump in September put a March 2018 expiration date on the Deferred Action for Childhood Arrivals, or DACA, program, which protects the young immigrants from deportation and provides them with work permits. The president has said in recent Twitter messages he wants funding for his proposed Mexican border wall and other immigration law changes in exchange for agreeing to help the Dreamers. Representative Debbie Dingell told CBS she did not favor linking that issue to other policy objectives, such as wall funding. “We need to do DACA clean,” she said.  On Wednesday, Trump aides will meet with congressional leaders to discuss those issues. That will be followed by a weekend of strategy sessions for Trump and Republican leaders on Jan. 6 and 7, the White House said. Trump was also scheduled to meet on Sunday with Florida Republican Governor Rick Scott, who wants more emergency aid. The House has passed an $81 billion aid package after hurricanes in Florida, Texas and Puerto Rico, and wildfires in California. The package far exceeded the $44 billion requested by the Trump administration. The Senate has not yet voted on the aid. \n"
     ]
    }
   ],
   "source": [
    "# Mostrar la primera noticia fake\n",
    "print(\"Primera noticia fake:\")\n",
    "print(\"Title: \", df_fake.iloc[0]['title'])\n",
    "print(\"Text: \", df_fake.iloc[0]['text'])\n",
    "\n",
    "# Mostrar la primera noticia real\n",
    "print(\"Primera noticia real:\")\n",
    "print(\"Title: \", df_real.iloc[0]['title'])\n",
    "print(\"Text: \", df_real.iloc[0]['text'])"
   ]
  },
  {
   "cell_type": "code",
   "execution_count": 19,
   "metadata": {},
   "outputs": [
    {
     "name": "stdout",
     "output_type": "stream",
     "text": [
      "                                               title  \\\n",
      "0  WHATEVER HAPPENED To Trump’s Second Wife? [VIDEO]   \n",
      "1  ABSOLUTE SUBMISSION: Trump Bows to Neocon Orth...   \n",
      "2  LONDON’S MAYOR HAS HARSH WORDS For Our Communi...   \n",
      "3  https://fedup.wpengine.com/wp-content/uploads/...   \n",
      "4  Trump's top defense and homeland officials to ...   \n",
      "\n",
      "                                                text  label  \n",
      "0  It s a pretty safe bet that the press isn t ab...      0  \n",
      "1  Consortium News Exclusive: In his Mideast trip...      0  \n",
      "2  Our country is spinning out of control. Obama ...      0  \n",
      "3  https://fedup.wpengine.com/wp-content/uploads/...      0  \n",
      "4  BERLIN (Reuters) - U.S. Secretary of Defense J...      1  \n"
     ]
    }
   ],
   "source": [
    "# Unir ambos datasets\n",
    "df = pd.concat([df_fake, df_real])\n",
    "\n",
    "# Mezclar datos\n",
    "df = df.sample(frac=1).reset_index(drop=True)\n",
    "\n",
    "# Ver primeras filas\n",
    "print(df.head())"
   ]
  },
  {
   "cell_type": "code",
   "execution_count": 20,
   "metadata": {},
   "outputs": [
    {
     "name": "stdout",
     "output_type": "stream",
     "text": [
      "0    23481\n",
      "1    21417\n",
      "Name: label, dtype: int64\n"
     ]
    }
   ],
   "source": [
    "# Comprobar que los datos siguen balanceados\n",
    "print(df[\"label\"].value_counts())"
   ]
  },
  {
   "cell_type": "code",
   "execution_count": 21,
   "metadata": {},
   "outputs": [],
   "source": [
    "df.to_csv(\"FakeAndRealNews.csv\", index=False)"
   ]
  },
  {
   "cell_type": "markdown",
   "metadata": {},
   "source": [
    "# Preprocesado NLP"
   ]
  },
  {
   "cell_type": "code",
   "execution_count": 8,
   "metadata": {},
   "outputs": [],
   "source": [
    "df = pd.read_csv(\"FakeAndRealNews.csv\")"
   ]
  },
  {
   "cell_type": "code",
   "execution_count": null,
   "metadata": {},
   "outputs": [],
   "source": [
    "# Run only once to install the spaCy model\n",
    "!python -m spacy download en_core_web_sm"
   ]
  },
  {
   "cell_type": "code",
   "execution_count": 6,
   "metadata": {},
   "outputs": [
    {
     "name": "stderr",
     "output_type": "stream",
     "text": [
      "[nltk_data] Downloading package stopwords to\n",
      "[nltk_data]     C:\\Users\\guigr\\AppData\\Roaming\\nltk_data...\n",
      "[nltk_data]   Package stopwords is already up-to-date!\n"
     ]
    }
   ],
   "source": [
    "from nltk.corpus import stopwords\n",
    "\n",
    "nltk.download(\"stopwords\")\n",
    "stop_words = set(stopwords.words(\"english\"))\n",
    "\n",
    "nlp = spacy.load(\"en_core_web_sm\")"
   ]
  },
  {
   "cell_type": "code",
   "execution_count": null,
   "metadata": {},
   "outputs": [],
   "source": [
    "def clean_function(text):\n",
    "    text = text.lower() # Convertir a minúsculas para uniformidad\n",
    "    text = re.sub(r\"\\[.*?\\]\", \"\", text) # Quitar todo contenido entre corchetes\n",
    "    text = re.sub(f\"[{string.punctuation}]\", \"\", text) # Quitar cualquier carácter de puntuación y comillas especiales\n",
    "    text = re.sub(r\"\\w*\\d\\w*\", \"\", text) # Quitar palabras con números\n",
    "    text = re.sub(r'https://\\S+|www\\.\\S+', '', text) # Quitar URLs\n",
    "    text = contractions.fix(text) # Expandir contracciones\n",
    "    text = \" \".join([word for word in text.split() if word not in stop_words]) # Quitar stopwords\n",
    "    text = \" \".join([token.lemma_ for token in nlp(text)]) # Lematización\n",
    "    return text\n",
    "\n",
    "df[\"clean_title\"] = df[\"title\"].apply(clean_function)\n",
    "df[\"clean_text\"] = df[\"text\"].apply(clean_function)"
   ]
  },
  {
   "cell_type": "code",
   "execution_count": null,
   "metadata": {},
   "outputs": [],
   "source": [
    "# Mostrar comparaciones de la limpieza realizada en algunas filas de texto\n",
    "number_new = 11\n",
    "print(df['label'][number_new])\n",
    "\n",
    "print(df['title'][number_new])\n",
    "print(df['text'][number_new])\n",
    "\n",
    "print(df['clean_title'][number_new])\n",
    "print(df['clean_text'][number_new])\n"
   ]
  },
  {
   "cell_type": "markdown",
   "metadata": {},
   "source": [
    "Algunas comillas no se han eliminado. \n",
    "\n",
    "Además, hay algunas palabras vacías que no se expanden usando *contractions* como 's, por lo que eliminamos caracteres de longitud = 1, pues no aportan valor.\n",
    "\n",
    "Por último, nos aseguramos de tener un único espacio entre palabras.\n"
   ]
  },
  {
   "cell_type": "code",
   "execution_count": 70,
   "metadata": {},
   "outputs": [],
   "source": [
    "def clean_function_v2(text):\n",
    "    text = re.sub(r\"[‘’“”\\\"\\']\", \"\", text) # Eliminar comillas raras\n",
    "    text = re.sub(r\"\\s.\\s\", \" \", text) # Eliminar caracteres que miden solo 1 (resquicios con espacios a ambos lados)\n",
    "    text = re.sub(r\"\\s+\", \" \", text).strip() # Quitar espacios en blanco adicionales\n",
    "    return text\n",
    "\n",
    "df[\"clean_title\"] = df[\"clean_title\"].apply(clean_function_v2)\n",
    "df[\"clean_text\"] = df[\"clean_text\"].apply(clean_function_v2)"
   ]
  },
  {
   "cell_type": "code",
   "execution_count": 72,
   "metadata": {},
   "outputs": [
    {
     "name": "stdout",
     "output_type": "stream",
     "text": [
      "0\n",
      "SHE GREW UP BELIEVING BLACKS Could Only Support Democrats…Until She Took A Job With ACORN: WATCH The INCREDIBLE Story Of A Woman Who Took On Obama’s LEFTIST MACHINE [VIDEO]\n",
      "Keep your eye on Anita Moncreif If knowledge is power she is the Democrat Party s worst nightmare. When you re on the left, and all of your friends are leftists, and your parents are leftists, you don t hang around with other people, and you only get the view of folks as what you see on TV, and how they present it to you. And you guys are seen as racist, angry people. Every time they get a chance, that s the image they push out there on TV. They try to find that one crazy Tea Party person and they try to get them to say something, and they make sure they play it on all the black stations. And you see that and you say,  Okay, these people are nuts.  So I didn t expect to find any kind of support from the Right. Everything Anita Moncreif believed to be true about the Left changed when she took a job with ACORN and quickly discovered the Democrat Party was not really looking out for the interests of the Black community or low income neighborhoods. When she began to understand they would do anything, including breaking the law, to grow the Democrat Party, she made the decision to expose them. She quickly found out how the mainstream media will go to any length to keep the truth about the criminal Left from the American people.Watch her amazing story here: Decades after his death, Saul Alinsky s vision has become reality. From Barack Obama to Hillary Clinton to ACORN to Black Lives Matter, Alinsky is more alive in his death now than in his four decades of community organizing.Anita is asking for the help of conservatives to make this movie a reality.  She needs YOUR help to build momentum for this film.Please consider giving whatever you can today. Click HERE to donate $1, $5, $10, $20 or whatever you can afford. This is an independent fund. We have no big funders or organizations backing us  yet. That s why we need you. We need to start shooting now. Reaching our goal will allow us to begin shooting footage at the two party conventions and buy us time to raise awareness to raise the production, administrative, and promotional budgets for this much-needed film.We re going to communicate with you the audience. Some of the footage we ll release before the film s debut. We ll also communicate some of our successes and our challenges along the way. Together, we can change the way films are produced and promoted.The American Left and the Right need to see this film and decide where we go from here.If the necessary funds aren t raised on Kickstarter, account funds won t be unlocked.Eight years after exposing ACORN, I have been immersed in training, speaking, and examining the effectiveness of the grassroots on both sides of the aisle. I felt that my journey was not over, and I had many more truths to tell. I am finally ready to offer a movement eye view of the legacy of Alinsky, and the rise of grassroots movements across the nation. It s a huge effort, it s expensive, and the stakes are high, so please chip in $15, $50, $500 or more to fund our efforts to film at the DNC and RNC conventions in the next few weeks.Donate now to The Children of Alinsky (Phase 1)Together, we can do great things and the possibility of a documentary filmed and funded by ordinary people determined to implement change will be a major step toward illustrating how bottom-up change is done.Your friend, Anita MonCriefHere is Part II of Anita s amazing story:\n",
      "grow believe black could support democrat until take job acorn watch incredible story woman take obama leftist machine\n",
      "keep eye anita moncreif knowledge power democrat party bad nightmare leave friend leftist parent leftist hang around people get view folk see tv present guy see racist angry people every time get chance image push tv try find one crazy tea party person try get say something make sure play black station see say okay people nut expect find kind support right everything anita moncreif believe true left change take job acorn quickly discover democrat party really look interest black community low income neighborhood begin understand would anything include break law grow democrat party make decision expose quickly find mainstream medium go length keep truth criminal leave american peoplewatch amazing story decade death saul alinsky vision become reality barack obama hillary clinton acorn black life matter alinsky alive death four decade community organizinganita ask help conservative make movie reality need help build momentum filmplease consider give whatever today click donate whatever afford independent fund big funder organization back we yet need need start shoot reach goal allow we begin shoot footage two party convention buy we time raise awareness raise production administrative promotional budget muchneede filmwe go communicate audience footage release film debut also communicate success challenge along way together change way film produce promotedthe american leave right need see film decide go hereif necessary fund raise kickstarter account fund unlockedeight year expose acorn immerse training speak examine effectiveness grassroot side aisle feel journey many truth tell finally ready offer movement eye view legacy alinsky rise grassroot movement across nation huge effort expensive stake high please chip fund effort film dnc rnc convention next weeksdonate child alinsky phase great thing possibility documentary film fund ordinary people determine implement change major step toward illustrate bottomup change doneyour friend anita moncriefhere part ii anita amazing story\n"
     ]
    }
   ],
   "source": [
    "# Mostrar comparaciones de la limpieza realizada en algunas filas de texto\n",
    "number_new = 25000\n",
    "print(df['label'][number_new])\n",
    "\n",
    "print(df['title'][number_new])\n",
    "print(df['text'][number_new])\n",
    "\n",
    "print(df['clean_title'][number_new])\n",
    "print(df['clean_text'][number_new])"
   ]
  },
  {
   "cell_type": "code",
   "execution_count": null,
   "metadata": {},
   "outputs": [
    {
     "data": {
      "text/html": [
       "<div>\n",
       "<style scoped>\n",
       "    .dataframe tbody tr th:only-of-type {\n",
       "        vertical-align: middle;\n",
       "    }\n",
       "\n",
       "    .dataframe tbody tr th {\n",
       "        vertical-align: top;\n",
       "    }\n",
       "\n",
       "    .dataframe thead th {\n",
       "        text-align: right;\n",
       "    }\n",
       "</style>\n",
       "<table border=\"1\" class=\"dataframe\">\n",
       "  <thead>\n",
       "    <tr style=\"text-align: right;\">\n",
       "      <th></th>\n",
       "      <th>label</th>\n",
       "      <th>clean_title</th>\n",
       "      <th>clean_text</th>\n",
       "    </tr>\n",
       "  </thead>\n",
       "  <tbody>\n",
       "    <tr>\n",
       "      <th>0</th>\n",
       "      <td>0</td>\n",
       "      <td>whatever happen trump second wife</td>\n",
       "      <td>pretty safe bet press able reveal bad blood do...</td>\n",
       "    </tr>\n",
       "    <tr>\n",
       "      <th>1</th>\n",
       "      <td>0</td>\n",
       "      <td>absolute submission trump bow neocon orthodoxy</td>\n",
       "      <td>consortium news exclusive mideast trip saudi a...</td>\n",
       "    </tr>\n",
       "    <tr>\n",
       "      <th>2</th>\n",
       "      <td>0</td>\n",
       "      <td>london mayor harsh word community organizer ch...</td>\n",
       "      <td>country spin control obama orchestrate effort ...</td>\n",
       "    </tr>\n",
       "    <tr>\n",
       "      <th>3</th>\n",
       "      <td>0</td>\n",
       "      <td></td>\n",
       "      <td></td>\n",
       "    </tr>\n",
       "    <tr>\n",
       "      <th>4</th>\n",
       "      <td>1</td>\n",
       "      <td>trump top defense homeland official attend mun...</td>\n",
       "      <td>berlin reuter us secretary defense james matti...</td>\n",
       "    </tr>\n",
       "  </tbody>\n",
       "</table>\n",
       "</div>"
      ],
      "text/plain": [
       "   label                                        clean_title  \\\n",
       "0      0                  whatever happen trump second wife   \n",
       "1      0     absolute submission trump bow neocon orthodoxy   \n",
       "2      0  london mayor harsh word community organizer ch...   \n",
       "3      0                                                      \n",
       "4      1  trump top defense homeland official attend mun...   \n",
       "\n",
       "                                          clean_text  \n",
       "0  pretty safe bet press able reveal bad blood do...  \n",
       "1  consortium news exclusive mideast trip saudi a...  \n",
       "2  country spin control obama orchestrate effort ...  \n",
       "3                                                     \n",
       "4  berlin reuter us secretary defense james matti...  "
      ]
     },
     "execution_count": 76,
     "metadata": {},
     "output_type": "execute_result"
    }
   ],
   "source": [
    "# Eliminar las columnas 'title' y 'text'\n",
    "df.drop(['title', 'text'], axis=1, inplace=True)\n",
    "\n",
    "# Mostrar las primeras filas del DataFrame\n",
    "df.head()"
   ]
  },
  {
   "cell_type": "markdown",
   "metadata": {},
   "source": [
    "Por ejemplo, la noticia 3 era sólo una URL. Eliminemos las filas vacías."
   ]
  },
  {
   "cell_type": "code",
   "execution_count": 77,
   "metadata": {},
   "outputs": [
    {
     "name": "stdout",
     "output_type": "stream",
     "text": [
      "Se han eliminado 705 filas.\n"
     ]
    },
    {
     "data": {
      "text/html": [
       "<div>\n",
       "<style scoped>\n",
       "    .dataframe tbody tr th:only-of-type {\n",
       "        vertical-align: middle;\n",
       "    }\n",
       "\n",
       "    .dataframe tbody tr th {\n",
       "        vertical-align: top;\n",
       "    }\n",
       "\n",
       "    .dataframe thead th {\n",
       "        text-align: right;\n",
       "    }\n",
       "</style>\n",
       "<table border=\"1\" class=\"dataframe\">\n",
       "  <thead>\n",
       "    <tr style=\"text-align: right;\">\n",
       "      <th></th>\n",
       "      <th>label</th>\n",
       "      <th>clean_title</th>\n",
       "      <th>clean_text</th>\n",
       "    </tr>\n",
       "  </thead>\n",
       "  <tbody>\n",
       "    <tr>\n",
       "      <th>0</th>\n",
       "      <td>0</td>\n",
       "      <td>whatever happen trump second wife</td>\n",
       "      <td>pretty safe bet press able reveal bad blood do...</td>\n",
       "    </tr>\n",
       "    <tr>\n",
       "      <th>1</th>\n",
       "      <td>0</td>\n",
       "      <td>absolute submission trump bow neocon orthodoxy</td>\n",
       "      <td>consortium news exclusive mideast trip saudi a...</td>\n",
       "    </tr>\n",
       "    <tr>\n",
       "      <th>2</th>\n",
       "      <td>0</td>\n",
       "      <td>london mayor harsh word community organizer ch...</td>\n",
       "      <td>country spin control obama orchestrate effort ...</td>\n",
       "    </tr>\n",
       "    <tr>\n",
       "      <th>4</th>\n",
       "      <td>1</td>\n",
       "      <td>trump top defense homeland official attend mun...</td>\n",
       "      <td>berlin reuter us secretary defense james matti...</td>\n",
       "    </tr>\n",
       "    <tr>\n",
       "      <th>5</th>\n",
       "      <td>1</td>\n",
       "      <td>support brazil pension reform organize lawmaker</td>\n",
       "      <td>brasiliario de janeiro reuters government braz...</td>\n",
       "    </tr>\n",
       "  </tbody>\n",
       "</table>\n",
       "</div>"
      ],
      "text/plain": [
       "   label                                        clean_title  \\\n",
       "0      0                  whatever happen trump second wife   \n",
       "1      0     absolute submission trump bow neocon orthodoxy   \n",
       "2      0  london mayor harsh word community organizer ch...   \n",
       "4      1  trump top defense homeland official attend mun...   \n",
       "5      1    support brazil pension reform organize lawmaker   \n",
       "\n",
       "                                          clean_text  \n",
       "0  pretty safe bet press able reveal bad blood do...  \n",
       "1  consortium news exclusive mideast trip saudi a...  \n",
       "2  country spin control obama orchestrate effort ...  \n",
       "4  berlin reuter us secretary defense james matti...  \n",
       "5  brasiliario de janeiro reuters government braz...  "
      ]
     },
     "execution_count": 77,
     "metadata": {},
     "output_type": "execute_result"
    }
   ],
   "source": [
    "# Eliminar filas con texto vacío\n",
    "filas_antes = df.shape[0]\n",
    "df = df[df['clean_text'].str.strip() != '']\n",
    "filas_despues = df.shape[0]\n",
    "filas_eliminadas = filas_antes - filas_despues\n",
    "print(f\"Se han eliminado {filas_eliminadas} filas.\")\n",
    "\n",
    "# Mostrar las primeras filas del DataFrame después de eliminar filas vacías\n",
    "df.head()"
   ]
  },
  {
   "cell_type": "code",
   "execution_count": 78,
   "metadata": {},
   "outputs": [
    {
     "name": "stdout",
     "output_type": "stream",
     "text": [
      "0    22777\n",
      "1    21416\n",
      "Name: label, dtype: int64\n"
     ]
    }
   ],
   "source": [
    "# Comprobar que los datos siguen balanceados\n",
    "print(df[\"label\"].value_counts())"
   ]
  },
  {
   "cell_type": "code",
   "execution_count": 79,
   "metadata": {},
   "outputs": [],
   "source": [
    "# Guardar el DataFrame en un archivo CSV\n",
    "df.to_csv(\"CleanedFakeAndRealNews.csv\", index=False)"
   ]
  },
  {
   "cell_type": "markdown",
   "metadata": {},
   "source": [
    "# Vectorización"
   ]
  }
 ],
 "metadata": {
  "kernelspec": {
   "display_name": "tfm",
   "language": "python",
   "name": "python3"
  },
  "language_info": {
   "codemirror_mode": {
    "name": "ipython",
    "version": 3
   },
   "file_extension": ".py",
   "mimetype": "text/x-python",
   "name": "python",
   "nbconvert_exporter": "python",
   "pygments_lexer": "ipython3",
   "version": "3.11.11"
  }
 },
 "nbformat": 4,
 "nbformat_minor": 2
}
