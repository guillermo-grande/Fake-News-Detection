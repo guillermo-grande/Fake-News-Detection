{
 "cells": [
  {
   "cell_type": "markdown",
   "metadata": {},
   "source": [
    "#  Imports"
   ]
  },
  {
   "cell_type": "code",
   "execution_count": 48,
   "metadata": {},
   "outputs": [],
   "source": [
    "import pandas as pd\n",
    "import numpy as np\n",
    "import matplotlib.pyplot as plt\n",
    "\n",
    "from sklearn.model_selection import train_test_split\n",
    "from sklearn.feature_extraction.text import TfidfVectorizer \n",
    "from sklearn.ensemble import RandomForestClassifier \n",
    "from sklearn.metrics import accuracy_score \n",
    "\n",
    "import nltk\n",
    "import re\n",
    "import string\n",
    "import spacy\n",
    "import contractions\n",
    "\n",
    "import shap\n"
   ]
  },
  {
   "cell_type": "markdown",
   "metadata": {},
   "source": [
    "# Carga de datos"
   ]
  },
  {
   "cell_type": "code",
   "execution_count": null,
   "metadata": {},
   "outputs": [],
   "source": [
    "# Cargar datos de Kaggle\n",
    "df_fake = pd.read_csv(\"Datasets/Fake.csv\") # Noticias falsas\n",
    "df_real = pd.read_csv(\"Datasets/True.csv\") # Noticias verdaderas\n",
    "\n",
    "# Agregar columna de etiquetas\n",
    "df_fake[\"label\"] = 0\n",
    "df_real[\"label\"] = 1\n",
    "\n",
    "# Subject y Date no nos interesa\n",
    "df_fake.drop([\"subject\", \"date\"], axis=1, inplace=True)\n",
    "df_real.drop([\"subject\", \"date\"], axis=1, inplace=True)"
   ]
  },
  {
   "cell_type": "code",
   "execution_count": 4,
   "metadata": {},
   "outputs": [
    {
     "name": "stdout",
     "output_type": "stream",
     "text": [
      "(23481, 3)\n"
     ]
    },
    {
     "data": {
      "text/html": [
       "<div>\n",
       "<style scoped>\n",
       "    .dataframe tbody tr th:only-of-type {\n",
       "        vertical-align: middle;\n",
       "    }\n",
       "\n",
       "    .dataframe tbody tr th {\n",
       "        vertical-align: top;\n",
       "    }\n",
       "\n",
       "    .dataframe thead th {\n",
       "        text-align: right;\n",
       "    }\n",
       "</style>\n",
       "<table border=\"1\" class=\"dataframe\">\n",
       "  <thead>\n",
       "    <tr style=\"text-align: right;\">\n",
       "      <th></th>\n",
       "      <th>title</th>\n",
       "      <th>text</th>\n",
       "      <th>label</th>\n",
       "    </tr>\n",
       "  </thead>\n",
       "  <tbody>\n",
       "    <tr>\n",
       "      <th>0</th>\n",
       "      <td>Donald Trump Sends Out Embarrassing New Year’...</td>\n",
       "      <td>Donald Trump just couldn t wish all Americans ...</td>\n",
       "      <td>0</td>\n",
       "    </tr>\n",
       "    <tr>\n",
       "      <th>1</th>\n",
       "      <td>Drunk Bragging Trump Staffer Started Russian ...</td>\n",
       "      <td>House Intelligence Committee Chairman Devin Nu...</td>\n",
       "      <td>0</td>\n",
       "    </tr>\n",
       "    <tr>\n",
       "      <th>2</th>\n",
       "      <td>Sheriff David Clarke Becomes An Internet Joke...</td>\n",
       "      <td>On Friday, it was revealed that former Milwauk...</td>\n",
       "      <td>0</td>\n",
       "    </tr>\n",
       "    <tr>\n",
       "      <th>3</th>\n",
       "      <td>Trump Is So Obsessed He Even Has Obama’s Name...</td>\n",
       "      <td>On Christmas day, Donald Trump announced that ...</td>\n",
       "      <td>0</td>\n",
       "    </tr>\n",
       "    <tr>\n",
       "      <th>4</th>\n",
       "      <td>Pope Francis Just Called Out Donald Trump Dur...</td>\n",
       "      <td>Pope Francis used his annual Christmas Day mes...</td>\n",
       "      <td>0</td>\n",
       "    </tr>\n",
       "  </tbody>\n",
       "</table>\n",
       "</div>"
      ],
      "text/plain": [
       "                                               title  \\\n",
       "0   Donald Trump Sends Out Embarrassing New Year’...   \n",
       "1   Drunk Bragging Trump Staffer Started Russian ...   \n",
       "2   Sheriff David Clarke Becomes An Internet Joke...   \n",
       "3   Trump Is So Obsessed He Even Has Obama’s Name...   \n",
       "4   Pope Francis Just Called Out Donald Trump Dur...   \n",
       "\n",
       "                                                text  label  \n",
       "0  Donald Trump just couldn t wish all Americans ...      0  \n",
       "1  House Intelligence Committee Chairman Devin Nu...      0  \n",
       "2  On Friday, it was revealed that former Milwauk...      0  \n",
       "3  On Christmas day, Donald Trump announced that ...      0  \n",
       "4  Pope Francis used his annual Christmas Day mes...      0  "
      ]
     },
     "execution_count": 4,
     "metadata": {},
     "output_type": "execute_result"
    }
   ],
   "source": [
    "print(df_fake.shape)\n",
    "df_fake.head()"
   ]
  },
  {
   "cell_type": "code",
   "execution_count": 5,
   "metadata": {},
   "outputs": [
    {
     "name": "stdout",
     "output_type": "stream",
     "text": [
      "(21417, 3)\n"
     ]
    },
    {
     "data": {
      "text/html": [
       "<div>\n",
       "<style scoped>\n",
       "    .dataframe tbody tr th:only-of-type {\n",
       "        vertical-align: middle;\n",
       "    }\n",
       "\n",
       "    .dataframe tbody tr th {\n",
       "        vertical-align: top;\n",
       "    }\n",
       "\n",
       "    .dataframe thead th {\n",
       "        text-align: right;\n",
       "    }\n",
       "</style>\n",
       "<table border=\"1\" class=\"dataframe\">\n",
       "  <thead>\n",
       "    <tr style=\"text-align: right;\">\n",
       "      <th></th>\n",
       "      <th>title</th>\n",
       "      <th>text</th>\n",
       "      <th>label</th>\n",
       "    </tr>\n",
       "  </thead>\n",
       "  <tbody>\n",
       "    <tr>\n",
       "      <th>0</th>\n",
       "      <td>As U.S. budget fight looms, Republicans flip t...</td>\n",
       "      <td>WASHINGTON (Reuters) - The head of a conservat...</td>\n",
       "      <td>1</td>\n",
       "    </tr>\n",
       "    <tr>\n",
       "      <th>1</th>\n",
       "      <td>U.S. military to accept transgender recruits o...</td>\n",
       "      <td>WASHINGTON (Reuters) - Transgender people will...</td>\n",
       "      <td>1</td>\n",
       "    </tr>\n",
       "    <tr>\n",
       "      <th>2</th>\n",
       "      <td>Senior U.S. Republican senator: 'Let Mr. Muell...</td>\n",
       "      <td>WASHINGTON (Reuters) - The special counsel inv...</td>\n",
       "      <td>1</td>\n",
       "    </tr>\n",
       "    <tr>\n",
       "      <th>3</th>\n",
       "      <td>FBI Russia probe helped by Australian diplomat...</td>\n",
       "      <td>WASHINGTON (Reuters) - Trump campaign adviser ...</td>\n",
       "      <td>1</td>\n",
       "    </tr>\n",
       "    <tr>\n",
       "      <th>4</th>\n",
       "      <td>Trump wants Postal Service to charge 'much mor...</td>\n",
       "      <td>SEATTLE/WASHINGTON (Reuters) - President Donal...</td>\n",
       "      <td>1</td>\n",
       "    </tr>\n",
       "  </tbody>\n",
       "</table>\n",
       "</div>"
      ],
      "text/plain": [
       "                                               title  \\\n",
       "0  As U.S. budget fight looms, Republicans flip t...   \n",
       "1  U.S. military to accept transgender recruits o...   \n",
       "2  Senior U.S. Republican senator: 'Let Mr. Muell...   \n",
       "3  FBI Russia probe helped by Australian diplomat...   \n",
       "4  Trump wants Postal Service to charge 'much mor...   \n",
       "\n",
       "                                                text  label  \n",
       "0  WASHINGTON (Reuters) - The head of a conservat...      1  \n",
       "1  WASHINGTON (Reuters) - Transgender people will...      1  \n",
       "2  WASHINGTON (Reuters) - The special counsel inv...      1  \n",
       "3  WASHINGTON (Reuters) - Trump campaign adviser ...      1  \n",
       "4  SEATTLE/WASHINGTON (Reuters) - President Donal...      1  "
      ]
     },
     "execution_count": 5,
     "metadata": {},
     "output_type": "execute_result"
    }
   ],
   "source": [
    "print(df_real.shape)\n",
    "df_real.head()"
   ]
  },
  {
   "cell_type": "code",
   "execution_count": 6,
   "metadata": {},
   "outputs": [
    {
     "name": "stdout",
     "output_type": "stream",
     "text": [
      "Porcentaje de balanceo de clases:\n",
      "Fake:  0.5229854336496058\n",
      "Real:  0.47701456635039424\n"
     ]
    }
   ],
   "source": [
    "print(\"Porcentaje de balanceo de clases:\")\n",
    "print(\"Fake: \", df_fake.shape[0]/(df_fake.shape[0]+df_real.shape[0]))\n",
    "print(\"Real: \", df_real.shape[0]/(df_fake.shape[0]+df_real.shape[0]))"
   ]
  },
  {
   "cell_type": "code",
   "execution_count": 7,
   "metadata": {},
   "outputs": [
    {
     "name": "stdout",
     "output_type": "stream",
     "text": [
      "Primera noticia fake:\n",
      "Title:   Donald Trump Sends Out Embarrassing New Year’s Eve Message; This is Disturbing\n",
      "Text:  Donald Trump just couldn t wish all Americans a Happy New Year and leave it at that. Instead, he had to give a shout out to his enemies, haters and  the very dishonest fake news media.  The former reality show star had just one job to do and he couldn t do it. As our Country rapidly grows stronger and smarter, I want to wish all of my friends, supporters, enemies, haters, and even the very dishonest Fake News Media, a Happy and Healthy New Year,  President Angry Pants tweeted.  2018 will be a great year for America! As our Country rapidly grows stronger and smarter, I want to wish all of my friends, supporters, enemies, haters, and even the very dishonest Fake News Media, a Happy and Healthy New Year. 2018 will be a great year for America!  Donald J. Trump (@realDonaldTrump) December 31, 2017Trump s tweet went down about as welll as you d expect.What kind of president sends a New Year s greeting like this despicable, petty, infantile gibberish? Only Trump! His lack of decency won t even allow him to rise above the gutter long enough to wish the American citizens a happy new year!  Bishop Talbert Swan (@TalbertSwan) December 31, 2017no one likes you  Calvin (@calvinstowell) December 31, 2017Your impeachment would make 2018 a great year for America, but I ll also accept regaining control of Congress.  Miranda Yaver (@mirandayaver) December 31, 2017Do you hear yourself talk? When you have to include that many people that hate you you have to wonder? Why do the they all hate me?  Alan Sandoval (@AlanSandoval13) December 31, 2017Who uses the word Haters in a New Years wish??  Marlene (@marlene399) December 31, 2017You can t just say happy new year?  Koren pollitt (@Korencarpenter) December 31, 2017Here s Trump s New Year s Eve tweet from 2016.Happy New Year to all, including to my many enemies and those who have fought me and lost so badly they just don t know what to do. Love!  Donald J. Trump (@realDonaldTrump) December 31, 2016This is nothing new for Trump. He s been doing this for years.Trump has directed messages to his  enemies  and  haters  for New Year s, Easter, Thanksgiving, and the anniversary of 9/11. pic.twitter.com/4FPAe2KypA  Daniel Dale (@ddale8) December 31, 2017Trump s holiday tweets are clearly not presidential.How long did he work at Hallmark before becoming President?  Steven Goodine (@SGoodine) December 31, 2017He s always been like this . . . the only difference is that in the last few years, his filter has been breaking down.  Roy Schulze (@thbthttt) December 31, 2017Who, apart from a teenager uses the term haters?  Wendy (@WendyWhistles) December 31, 2017he s a fucking 5 year old  Who Knows (@rainyday80) December 31, 2017So, to all the people who voted for this a hole thinking he would change once he got into power, you were wrong! 70-year-old men don t change and now he s a year older.Photo by Andrew Burton/Getty Images.\n",
      "Primera noticia real:\n",
      "Title:  As U.S. budget fight looms, Republicans flip their fiscal script\n",
      "Text:  WASHINGTON (Reuters) - The head of a conservative Republican faction in the U.S. Congress, who voted this month for a huge expansion of the national debt to pay for tax cuts, called himself a “fiscal conservative” on Sunday and urged budget restraint in 2018. In keeping with a sharp pivot under way among Republicans, U.S. Representative Mark Meadows, speaking on CBS’ “Face the Nation,” drew a hard line on federal spending, which lawmakers are bracing to do battle over in January. When they return from the holidays on Wednesday, lawmakers will begin trying to pass a federal budget in a fight likely to be linked to other issues, such as immigration policy, even as the November congressional election campaigns approach in which Republicans will seek to keep control of Congress. President Donald Trump and his Republicans want a big budget increase in military spending, while Democrats also want proportional increases for non-defense “discretionary” spending on programs that support education, scientific research, infrastructure, public health and environmental protection. “The (Trump) administration has already been willing to say: ‘We’re going to increase non-defense discretionary spending ... by about 7 percent,’” Meadows, chairman of the small but influential House Freedom Caucus, said on the program. “Now, Democrats are saying that’s not enough, we need to give the government a pay raise of 10 to 11 percent. For a fiscal conservative, I don’t see where the rationale is. ... Eventually you run out of other people’s money,” he said. Meadows was among Republicans who voted in late December for their party’s debt-financed tax overhaul, which is expected to balloon the federal budget deficit and add about $1.5 trillion over 10 years to the $20 trillion national debt. “It’s interesting to hear Mark talk about fiscal responsibility,” Democratic U.S. Representative Joseph Crowley said on CBS. Crowley said the Republican tax bill would require the  United States to borrow $1.5 trillion, to be paid off by future generations, to finance tax cuts for corporations and the rich. “This is one of the least ... fiscally responsible bills we’ve ever seen passed in the history of the House of Representatives. I think we’re going to be paying for this for many, many years to come,” Crowley said. Republicans insist the tax package, the biggest U.S. tax overhaul in more than 30 years,  will boost the economy and job growth. House Speaker Paul Ryan, who also supported the tax bill, recently went further than Meadows, making clear in a radio interview that welfare or “entitlement reform,” as the party often calls it, would be a top Republican priority in 2018. In Republican parlance, “entitlement” programs mean food stamps, housing assistance, Medicare and Medicaid health insurance for the elderly, poor and disabled, as well as other programs created by Washington to assist the needy. Democrats seized on Ryan’s early December remarks, saying they showed Republicans would try to pay for their tax overhaul by seeking spending cuts for social programs. But the goals of House Republicans may have to take a back seat to the Senate, where the votes of some Democrats will be needed to approve a budget and prevent a government shutdown. Democrats will use their leverage in the Senate, which Republicans narrowly control, to defend both discretionary non-defense programs and social spending, while tackling the issue of the “Dreamers,” people brought illegally to the country as children. Trump in September put a March 2018 expiration date on the Deferred Action for Childhood Arrivals, or DACA, program, which protects the young immigrants from deportation and provides them with work permits. The president has said in recent Twitter messages he wants funding for his proposed Mexican border wall and other immigration law changes in exchange for agreeing to help the Dreamers. Representative Debbie Dingell told CBS she did not favor linking that issue to other policy objectives, such as wall funding. “We need to do DACA clean,” she said.  On Wednesday, Trump aides will meet with congressional leaders to discuss those issues. That will be followed by a weekend of strategy sessions for Trump and Republican leaders on Jan. 6 and 7, the White House said. Trump was also scheduled to meet on Sunday with Florida Republican Governor Rick Scott, who wants more emergency aid. The House has passed an $81 billion aid package after hurricanes in Florida, Texas and Puerto Rico, and wildfires in California. The package far exceeded the $44 billion requested by the Trump administration. The Senate has not yet voted on the aid. \n"
     ]
    }
   ],
   "source": [
    "# Mostrar la primera noticia fake\n",
    "print(\"Primera noticia fake:\")\n",
    "print(\"Title: \", df_fake.iloc[0]['title'])\n",
    "print(\"Text: \", df_fake.iloc[0]['text'])\n",
    "\n",
    "# Mostrar la primera noticia real\n",
    "print(\"Primera noticia real:\")\n",
    "print(\"Title: \", df_real.iloc[0]['title'])\n",
    "print(\"Text: \", df_real.iloc[0]['text'])"
   ]
  },
  {
   "cell_type": "code",
   "execution_count": 8,
   "metadata": {},
   "outputs": [
    {
     "name": "stdout",
     "output_type": "stream",
     "text": [
      "                                               title  \\\n",
      "0   Four-Year-Old Dies After Finding Loaded Gun A...   \n",
      "1   Anti-Trump Protestors Shut Down Major Road Le...   \n",
      "2  U.S. court backs Trump in battle over interim ...   \n",
      "3  Kazakhstan, Kyrgyzstan pledge to improve ties ...   \n",
      "4  Brazil's Temer sent for tests, treatment for u...   \n",
      "\n",
      "                                                text  label  \n",
      "0  A four-year-old Iowa boy died as the result of...      0  \n",
      "1  Protestors have peacefully shut down the main ...      0  \n",
      "2  WASHINGTON (Reuters) - A U.S. District Court j...      1  \n",
      "3  ALMATY (Reuters) - The leaders of Kazakhstan a...      1  \n",
      "4  SAO PAULO (Reuters) - Brazilian President Mich...      1  \n"
     ]
    }
   ],
   "source": [
    "# Unir ambos datasets\n",
    "df = pd.concat([df_fake, df_real])\n",
    "\n",
    "# Mezclar datos\n",
    "df = df.sample(frac=1).reset_index(drop=True)\n",
    "\n",
    "# Ver primeras filas\n",
    "print(df.head())"
   ]
  },
  {
   "cell_type": "code",
   "execution_count": 9,
   "metadata": {},
   "outputs": [
    {
     "name": "stdout",
     "output_type": "stream",
     "text": [
      "0    23481\n",
      "1    21417\n",
      "Name: label, dtype: int64\n"
     ]
    }
   ],
   "source": [
    "# Comprobar que los datos siguen balanceados\n",
    "print(df[\"label\"].value_counts())"
   ]
  },
  {
   "cell_type": "code",
   "execution_count": 10,
   "metadata": {},
   "outputs": [],
   "source": [
    "# df.to_csv(\"Datasets/FakeAndRealNews.csv\", index=False)"
   ]
  },
  {
   "cell_type": "markdown",
   "metadata": {},
   "source": [
    "# Preprocesado NLP"
   ]
  },
  {
   "cell_type": "code",
   "execution_count": 37,
   "metadata": {},
   "outputs": [],
   "source": [
    "df = pd.read_csv(\"Datasets/FakeAndRealNews.csv\")"
   ]
  },
  {
   "cell_type": "code",
   "execution_count": null,
   "metadata": {},
   "outputs": [
    {
     "name": "stdout",
     "output_type": "stream",
     "text": [
      "Collecting en-core-web-sm==3.8.0\n",
      "  Downloading https://github.com/explosion/spacy-models/releases/download/en_core_web_sm-3.8.0/en_core_web_sm-3.8.0-py3-none-any.whl (12.8 MB)\n",
      "     ---------------------------------------- 0.0/12.8 MB ? eta -:--:--\n",
      "     ---------------------------------------- 0.0/12.8 MB ? eta -:--:--\n",
      "      --------------------------------------- 0.2/12.8 MB 2.6 MB/s eta 0:00:05\n",
      "     --- ------------------------------------ 1.1/12.8 MB 10.2 MB/s eta 0:00:02\n",
      "     ------ --------------------------------- 2.1/12.8 MB 14.5 MB/s eta 0:00:01\n",
      "     --------- ------------------------------ 3.0/12.8 MB 14.8 MB/s eta 0:00:01\n",
      "     ----------- ---------------------------- 3.8/12.8 MB 16.4 MB/s eta 0:00:01\n",
      "     -------------- ------------------------- 4.8/12.8 MB 16.0 MB/s eta 0:00:01\n",
      "     ----------------- ---------------------- 5.7/12.8 MB 16.5 MB/s eta 0:00:01\n",
      "     -------------------- ------------------- 6.6/12.8 MB 16.9 MB/s eta 0:00:01\n",
      "     ----------------------- ---------------- 7.6/12.8 MB 17.3 MB/s eta 0:00:01\n",
      "     -------------------------- ------------- 8.5/12.8 MB 17.6 MB/s eta 0:00:01\n",
      "     ----------------------------- ---------- 9.5/12.8 MB 17.8 MB/s eta 0:00:01\n",
      "     ------------------------------- ------- 10.4/12.8 MB 19.9 MB/s eta 0:00:01\n",
      "     ---------------------------------- ---- 11.4/12.8 MB 20.5 MB/s eta 0:00:01\n",
      "     ------------------------------------- - 12.3/12.8 MB 20.5 MB/s eta 0:00:01\n",
      "     --------------------------------------  12.8/12.8 MB 19.8 MB/s eta 0:00:01\n",
      "     --------------------------------------- 12.8/12.8 MB 16.0 MB/s eta 0:00:00\n",
      "\u001b[38;5;2m✔ Download and installation successful\u001b[0m\n",
      "You can now load the package via spacy.load('en_core_web_sm')\n"
     ]
    },
    {
     "name": "stderr",
     "output_type": "stream",
     "text": [
      "\n",
      "[notice] A new release of pip is available: 24.0 -> 25.0.1\n",
      "[notice] To update, run: python.exe -m pip install --upgrade pip\n"
     ]
    }
   ],
   "source": [
    "# Instalar modelo de spacy\n",
    "!python -m spacy download en_core_web_sm"
   ]
  },
  {
   "cell_type": "code",
   "execution_count": null,
   "metadata": {},
   "outputs": [
    {
     "name": "stderr",
     "output_type": "stream",
     "text": [
      "[nltk_data] Downloading package stopwords to\n",
      "[nltk_data]     C:\\Users\\guigr\\AppData\\Roaming\\nltk_data...\n",
      "[nltk_data]   Package stopwords is already up-to-date!\n"
     ]
    }
   ],
   "source": [
    "from nltk.corpus import stopwords\n",
    "\n",
    "# Descargar stopwords de nltk\n",
    "nltk.download(\"stopwords\")\n",
    "stop_words = set(stopwords.words(\"english\"))\n",
    "\n",
    "nlp = spacy.load(\"en_core_web_sm\")"
   ]
  },
  {
   "cell_type": "markdown",
   "metadata": {},
   "source": [
    "La limpieza del texto se realizará mediante la siguiente función:"
   ]
  },
  {
   "cell_type": "code",
   "execution_count": null,
   "metadata": {},
   "outputs": [],
   "source": [
    "# Función para limpiar el texto\n",
    "def clean_function(text):\n",
    "    text = text.lower() # Convertir a minúsculas para uniformidad\n",
    "    text = re.sub(r\"\\[.*?\\]\", \"\", text) # Quitar todo contenido entre corchetes\n",
    "    text = re.sub(f\"[{string.punctuation}]\", \"\", text) # Quitar cualquier carácter de puntuación\n",
    "    text = re.sub(r\"[‘’“”\\\"\\']\", \"\", text) # Eliminar comillas raras\n",
    "    text = re.sub(r\"\\w*\\d\\w*\", \"\", text) # Quitar palabras con números\n",
    "    text = re.sub(r'https://\\S+|www\\.\\S+', '', text) # Quitar URLs\n",
    "    text = contractions.fix(text) # Expandir contracciones\n",
    "    text = re.sub(r\"\\s.\\s\", \" \", text) # Eliminar caracteres que miden solo 1 (espacios a ambos lados)\n",
    "    text = re.sub(r\"\\s+\", \" \", text).strip() # Quitar espacios en blanco adicionales\n",
    "    text = \" \".join([word for word in text.split() if word not in stop_words]) # Quitar stopwords\n",
    "    text = \" \".join([token.lemma_ for token in nlp(text)]) # Lematización\n",
    "    return text\n",
    "\n",
    "df[\"clean_title\"] = df[\"title\"].apply(clean_function)\n",
    "df[\"clean_text\"] = df[\"text\"].apply(clean_function)"
   ]
  },
  {
   "cell_type": "code",
   "execution_count": 23,
   "metadata": {},
   "outputs": [
    {
     "name": "stdout",
     "output_type": "stream",
     "text": [
      "0\n",
      "SHE GREW UP BELIEVING BLACKS Could Only Support Democrats…Until She Took A Job With ACORN: WATCH The INCREDIBLE Story Of A Woman Who Took On Obama’s LEFTIST MACHINE [VIDEO]\n",
      "Keep your eye on Anita Moncreif If knowledge is power she is the Democrat Party s worst nightmare. When you re on the left, and all of your friends are leftists, and your parents are leftists, you don t hang around with other people, and you only get the view of folks as what you see on TV, and how they present it to you. And you guys are seen as racist, angry people. Every time they get a chance, that s the image they push out there on TV. They try to find that one crazy Tea Party person and they try to get them to say something, and they make sure they play it on all the black stations. And you see that and you say,  Okay, these people are nuts.  So I didn t expect to find any kind of support from the Right. Everything Anita Moncreif believed to be true about the Left changed when she took a job with ACORN and quickly discovered the Democrat Party was not really looking out for the interests of the Black community or low income neighborhoods. When she began to understand they would do anything, including breaking the law, to grow the Democrat Party, she made the decision to expose them. She quickly found out how the mainstream media will go to any length to keep the truth about the criminal Left from the American people.Watch her amazing story here: Decades after his death, Saul Alinsky s vision has become reality. From Barack Obama to Hillary Clinton to ACORN to Black Lives Matter, Alinsky is more alive in his death now than in his four decades of community organizing.Anita is asking for the help of conservatives to make this movie a reality.  She needs YOUR help to build momentum for this film.Please consider giving whatever you can today. Click HERE to donate $1, $5, $10, $20 or whatever you can afford. This is an independent fund. We have no big funders or organizations backing us  yet. That s why we need you. We need to start shooting now. Reaching our goal will allow us to begin shooting footage at the two party conventions and buy us time to raise awareness to raise the production, administrative, and promotional budgets for this much-needed film.We re going to communicate with you the audience. Some of the footage we ll release before the film s debut. We ll also communicate some of our successes and our challenges along the way. Together, we can change the way films are produced and promoted.The American Left and the Right need to see this film and decide where we go from here.If the necessary funds aren t raised on Kickstarter, account funds won t be unlocked.Eight years after exposing ACORN, I have been immersed in training, speaking, and examining the effectiveness of the grassroots on both sides of the aisle. I felt that my journey was not over, and I had many more truths to tell. I am finally ready to offer a movement eye view of the legacy of Alinsky, and the rise of grassroots movements across the nation. It s a huge effort, it s expensive, and the stakes are high, so please chip in $15, $50, $500 or more to fund our efforts to film at the DNC and RNC conventions in the next few weeks.Donate now to The Children of Alinsky (Phase 1)Together, we can do great things and the possibility of a documentary filmed and funded by ordinary people determined to implement change will be a major step toward illustrating how bottom-up change is done.Your friend, Anita MonCriefHere is Part II of Anita s amazing story:\n",
      "grow believe black could support democrat … until take job acorn watch incredible story woman take obamas leftist machine\n",
      "keep eye anita moncreif knowledge power democrat party bad nightmare leave friend leftist parent leftist hang around people get view folk see tv present guy see racist angry people every time get chance image push tv try find one crazy tea party person try get say something make sure play black station see say okay people nut expect find kind support right everything anita moncreif believe true left change take job acorn quickly discover democrat party really look interest black community low income neighborhood begin understand would anything include break law grow democrat party make decision expose quickly find mainstream medium go length keep truth criminal leave american peoplewatch amazing story decade death saul alinsky vision become reality barack obama hillary clinton acorn black life matter alinsky alive death four decade community organizinganita ask help conservative make movie reality need help build momentum filmplease consider give whatever today click donate whatever afford independent fund big funder organization back we yet need need start shoot reach goal allow we begin shoot footage two party convention buy we time raise awareness raise production administrative promotional budget muchneede filmwe go communicate audience footage release film debut also communicate success challenge along way together change way film produce promotedthe american leave right need see film decide go hereif necessary fund raise kickstarter account fund unlockedeight year expose acorn immerse training speak examine effectiveness grassroot side aisle feel journey many truth tell finally ready offer movement eye view legacy alinsky rise grassroot movement across nation huge effort expensive stake high please chip fund effort film dnc rnc convention next weeksdonate child alinsky phase great thing possibility documentary film fund ordinary people determine implement change major step toward illustrate bottomup change doneyour friend anita moncriefhere part ii anita amazing story\n"
     ]
    }
   ],
   "source": [
    "# Mostrar comparaciones de la limpieza realizada en algunas filas de texto\n",
    "number_new = 25000\n",
    "print(df['label'][number_new])\n",
    "\n",
    "print(df['title'][number_new])\n",
    "print(df['text'][number_new])\n",
    "\n",
    "print(df['clean_title'][number_new])\n",
    "print(df['clean_text'][number_new])\n"
   ]
  },
  {
   "cell_type": "markdown",
   "metadata": {},
   "source": [
    "Se puede observar que hay varias filas del DataFrame que, tras la limpieza, se quedaron en blanco (por ser URLs u otra razón). Eliminaremos dichas filas vacías."
   ]
  },
  {
   "cell_type": "code",
   "execution_count": 24,
   "metadata": {},
   "outputs": [
    {
     "name": "stdout",
     "output_type": "stream",
     "text": [
      "0\n",
      "LATINOS MAKE DISGUSTING VIDEOS Bashing TRUMP: “Make America Mexico Again” [Video]\n",
      " \n",
      "latinos make disgusting video bash trump make america mexico\n",
      "\n"
     ]
    }
   ],
   "source": [
    "# Mostrar comparaciones de la limpieza realizada en algunas filas de texto\n",
    "number_new = 83\n",
    "print(df['label'][number_new])\n",
    "\n",
    "print(df['title'][number_new])\n",
    "print(df['text'][number_new])\n",
    "\n",
    "print(df['clean_title'][number_new])\n",
    "print(df['clean_text'][number_new])"
   ]
  },
  {
   "cell_type": "code",
   "execution_count": 25,
   "metadata": {},
   "outputs": [
    {
     "name": "stdout",
     "output_type": "stream",
     "text": [
      "Se han eliminado 705 filas.\n"
     ]
    },
    {
     "data": {
      "text/html": [
       "<div>\n",
       "<style scoped>\n",
       "    .dataframe tbody tr th:only-of-type {\n",
       "        vertical-align: middle;\n",
       "    }\n",
       "\n",
       "    .dataframe tbody tr th {\n",
       "        vertical-align: top;\n",
       "    }\n",
       "\n",
       "    .dataframe thead th {\n",
       "        text-align: right;\n",
       "    }\n",
       "</style>\n",
       "<table border=\"1\" class=\"dataframe\">\n",
       "  <thead>\n",
       "    <tr style=\"text-align: right;\">\n",
       "      <th></th>\n",
       "      <th>title</th>\n",
       "      <th>text</th>\n",
       "      <th>label</th>\n",
       "      <th>clean_title</th>\n",
       "      <th>clean_text</th>\n",
       "    </tr>\n",
       "  </thead>\n",
       "  <tbody>\n",
       "    <tr>\n",
       "      <th>0</th>\n",
       "      <td>WHATEVER HAPPENED To Trump’s Second Wife? [VIDEO]</td>\n",
       "      <td>It s a pretty safe bet that the press isn t ab...</td>\n",
       "      <td>0</td>\n",
       "      <td>whatever happen trump second wife</td>\n",
       "      <td>pretty safe bet press able reveal bad blood do...</td>\n",
       "    </tr>\n",
       "    <tr>\n",
       "      <th>1</th>\n",
       "      <td>ABSOLUTE SUBMISSION: Trump Bows to Neocon Orth...</td>\n",
       "      <td>Consortium News Exclusive: In his Mideast trip...</td>\n",
       "      <td>0</td>\n",
       "      <td>absolute submission trump bow neocon orthodoxy</td>\n",
       "      <td>consortium news exclusive mideast trip saudi a...</td>\n",
       "    </tr>\n",
       "    <tr>\n",
       "      <th>2</th>\n",
       "      <td>LONDON’S MAYOR HAS HARSH WORDS For Our Communi...</td>\n",
       "      <td>Our country is spinning out of control. Obama ...</td>\n",
       "      <td>0</td>\n",
       "      <td>londons mayor harsh word community organizer c...</td>\n",
       "      <td>country spin control obama orchestrate effort ...</td>\n",
       "    </tr>\n",
       "    <tr>\n",
       "      <th>4</th>\n",
       "      <td>Trump's top defense and homeland officials to ...</td>\n",
       "      <td>BERLIN (Reuters) - U.S. Secretary of Defense J...</td>\n",
       "      <td>1</td>\n",
       "      <td>trump top defense homeland official attend mun...</td>\n",
       "      <td>berlin reuter us secretary defense james matti...</td>\n",
       "    </tr>\n",
       "    <tr>\n",
       "      <th>5</th>\n",
       "      <td>Support for Brazil's pension reform more organ...</td>\n",
       "      <td>BRASILIA/RIO DE JANEIRO (Reuters) - The govern...</td>\n",
       "      <td>1</td>\n",
       "      <td>support brazil pension reform organize lawmaker</td>\n",
       "      <td>brasiliario de janeiro reuters government braz...</td>\n",
       "    </tr>\n",
       "  </tbody>\n",
       "</table>\n",
       "</div>"
      ],
      "text/plain": [
       "                                               title  \\\n",
       "0  WHATEVER HAPPENED To Trump’s Second Wife? [VIDEO]   \n",
       "1  ABSOLUTE SUBMISSION: Trump Bows to Neocon Orth...   \n",
       "2  LONDON’S MAYOR HAS HARSH WORDS For Our Communi...   \n",
       "4  Trump's top defense and homeland officials to ...   \n",
       "5  Support for Brazil's pension reform more organ...   \n",
       "\n",
       "                                                text  label  \\\n",
       "0  It s a pretty safe bet that the press isn t ab...      0   \n",
       "1  Consortium News Exclusive: In his Mideast trip...      0   \n",
       "2  Our country is spinning out of control. Obama ...      0   \n",
       "4  BERLIN (Reuters) - U.S. Secretary of Defense J...      1   \n",
       "5  BRASILIA/RIO DE JANEIRO (Reuters) - The govern...      1   \n",
       "\n",
       "                                         clean_title  \\\n",
       "0                  whatever happen trump second wife   \n",
       "1     absolute submission trump bow neocon orthodoxy   \n",
       "2  londons mayor harsh word community organizer c...   \n",
       "4  trump top defense homeland official attend mun...   \n",
       "5    support brazil pension reform organize lawmaker   \n",
       "\n",
       "                                          clean_text  \n",
       "0  pretty safe bet press able reveal bad blood do...  \n",
       "1  consortium news exclusive mideast trip saudi a...  \n",
       "2  country spin control obama orchestrate effort ...  \n",
       "4  berlin reuter us secretary defense james matti...  \n",
       "5  brasiliario de janeiro reuters government braz...  "
      ]
     },
     "execution_count": 25,
     "metadata": {},
     "output_type": "execute_result"
    }
   ],
   "source": [
    "# Eliminar filas con texto vacío\n",
    "filas_antes = df.shape[0]\n",
    "df = df[df['clean_text'].str.strip() != '']\n",
    "filas_despues = df.shape[0]\n",
    "filas_eliminadas = filas_antes - filas_despues\n",
    "print(f\"Se han eliminado {filas_eliminadas} filas.\")\n",
    "\n",
    "# Mostrar las primeras filas del DataFrame después de eliminar filas vacías\n",
    "df.head()"
   ]
  },
  {
   "cell_type": "code",
   "execution_count": 26,
   "metadata": {},
   "outputs": [
    {
     "name": "stdout",
     "output_type": "stream",
     "text": [
      "0    22777\n",
      "1    21416\n",
      "Name: label, dtype: int64\n"
     ]
    }
   ],
   "source": [
    "# Comprobar que los datos siguen balanceados\n",
    "print(df[\"label\"].value_counts())"
   ]
  },
  {
   "cell_type": "markdown",
   "metadata": {},
   "source": [
    "Guardamos en un DataFrame todos los datos por si, en un futuro, se necesita utilizarlos."
   ]
  },
  {
   "cell_type": "code",
   "execution_count": 28,
   "metadata": {},
   "outputs": [],
   "source": [
    "# Guardar el DataFrame en un archivo CSV\n",
    "df.to_csv(\"Datasets/CleanedAllData.csv\", index=False)"
   ]
  },
  {
   "cell_type": "markdown",
   "metadata": {},
   "source": [
    "Guardaremos en otro DataFrame únicamente las columnas procesadas tras la limpieza.\n",
    "Este DataFrame es el que se utilizará a partir de ahora."
   ]
  },
  {
   "cell_type": "code",
   "execution_count": 29,
   "metadata": {},
   "outputs": [
    {
     "data": {
      "text/html": [
       "<div>\n",
       "<style scoped>\n",
       "    .dataframe tbody tr th:only-of-type {\n",
       "        vertical-align: middle;\n",
       "    }\n",
       "\n",
       "    .dataframe tbody tr th {\n",
       "        vertical-align: top;\n",
       "    }\n",
       "\n",
       "    .dataframe thead th {\n",
       "        text-align: right;\n",
       "    }\n",
       "</style>\n",
       "<table border=\"1\" class=\"dataframe\">\n",
       "  <thead>\n",
       "    <tr style=\"text-align: right;\">\n",
       "      <th></th>\n",
       "      <th>label</th>\n",
       "      <th>clean_title</th>\n",
       "      <th>clean_text</th>\n",
       "    </tr>\n",
       "  </thead>\n",
       "  <tbody>\n",
       "    <tr>\n",
       "      <th>0</th>\n",
       "      <td>0</td>\n",
       "      <td>whatever happen trump second wife</td>\n",
       "      <td>pretty safe bet press able reveal bad blood do...</td>\n",
       "    </tr>\n",
       "    <tr>\n",
       "      <th>1</th>\n",
       "      <td>0</td>\n",
       "      <td>absolute submission trump bow neocon orthodoxy</td>\n",
       "      <td>consortium news exclusive mideast trip saudi a...</td>\n",
       "    </tr>\n",
       "    <tr>\n",
       "      <th>2</th>\n",
       "      <td>0</td>\n",
       "      <td>londons mayor harsh word community organizer c...</td>\n",
       "      <td>country spin control obama orchestrate effort ...</td>\n",
       "    </tr>\n",
       "    <tr>\n",
       "      <th>4</th>\n",
       "      <td>1</td>\n",
       "      <td>trump top defense homeland official attend mun...</td>\n",
       "      <td>berlin reuter us secretary defense james matti...</td>\n",
       "    </tr>\n",
       "    <tr>\n",
       "      <th>5</th>\n",
       "      <td>1</td>\n",
       "      <td>support brazil pension reform organize lawmaker</td>\n",
       "      <td>brasiliario de janeiro reuters government braz...</td>\n",
       "    </tr>\n",
       "  </tbody>\n",
       "</table>\n",
       "</div>"
      ],
      "text/plain": [
       "   label                                        clean_title  \\\n",
       "0      0                  whatever happen trump second wife   \n",
       "1      0     absolute submission trump bow neocon orthodoxy   \n",
       "2      0  londons mayor harsh word community organizer c...   \n",
       "4      1  trump top defense homeland official attend mun...   \n",
       "5      1    support brazil pension reform organize lawmaker   \n",
       "\n",
       "                                          clean_text  \n",
       "0  pretty safe bet press able reveal bad blood do...  \n",
       "1  consortium news exclusive mideast trip saudi a...  \n",
       "2  country spin control obama orchestrate effort ...  \n",
       "4  berlin reuter us secretary defense james matti...  \n",
       "5  brasiliario de janeiro reuters government braz...  "
      ]
     },
     "execution_count": 29,
     "metadata": {},
     "output_type": "execute_result"
    }
   ],
   "source": [
    "# Eliminar las columnas 'title' y 'text'\n",
    "df.drop(['title', 'text'], axis=1, inplace=True)\n",
    "\n",
    "# Mostrar las primeras filas del DataFrame\n",
    "df.head()"
   ]
  },
  {
   "cell_type": "code",
   "execution_count": 30,
   "metadata": {},
   "outputs": [],
   "source": [
    "# Guardar el DataFrame en un archivo CSV\n",
    "df.to_csv(\"Datasets/CleanedFakeAndRealNews.csv\", index=False)"
   ]
  },
  {
   "cell_type": "markdown",
   "metadata": {},
   "source": [
    "# Vectorización TF-IDF + Clasificación mediante Random Forest (Caso Reuters)"
   ]
  },
  {
   "cell_type": "code",
   "execution_count": 44,
   "metadata": {},
   "outputs": [
    {
     "data": {
      "text/plain": [
       "(44193, 3)"
      ]
     },
     "execution_count": 44,
     "metadata": {},
     "output_type": "execute_result"
    }
   ],
   "source": [
    "df = pd.read_csv(\"Datasets/CleanedFakeAndRealNews.csv\")\n",
    "df.shape"
   ]
  },
  {
   "cell_type": "code",
   "execution_count": null,
   "metadata": {},
   "outputs": [],
   "source": [
    "# Dividimos los datos en entrenamiento y prueba\n",
    "# Por ahora usaremos únicamente el texto de la noticia (omitimos el título)\n",
    "X = df[\"clean_text\"]\n",
    "y = df[\"label\"]\n",
    "X_train, X_test, y_train, y_test = train_test_split(X, y, test_size=0.2, random_state=42)"
   ]
  },
  {
   "cell_type": "markdown",
   "metadata": {},
   "source": [
    "### TF-IDF"
   ]
  },
  {
   "cell_type": "code",
   "execution_count": 10,
   "metadata": {},
   "outputs": [],
   "source": [
    "# Definimos y utilizamos vectorizador TF-IDF\n",
    "vectorizer = TfidfVectorizer(max_features=5000)  # 5000 palabras más importantes (ordenadas por frecuencia de aparición en el corpus)\n",
    "X_train = vectorizer.fit_transform(X_train)\n",
    "X_test = vectorizer.transform(X_test)"
   ]
  },
  {
   "cell_type": "markdown",
   "metadata": {},
   "source": [
    "### Random Forest"
   ]
  },
  {
   "cell_type": "code",
   "execution_count": 11,
   "metadata": {},
   "outputs": [
    {
     "name": "stdout",
     "output_type": "stream",
     "text": [
      "Precisión: 0.9954746011992307\n"
     ]
    }
   ],
   "source": [
    "# Entrenar modelo \n",
    "rf = RandomForestClassifier(n_estimators=100)\n",
    "rf.fit(X_train, y_train) \n",
    " \n",
    "# Evaluación en test\n",
    "y_pred = rf.predict(X_test)\n",
    "print(\"Precisión:\", accuracy_score(y_test, y_pred))"
   ]
  },
  {
   "cell_type": "markdown",
   "metadata": {},
   "source": [
    "Obtenemos una precisión del 99.5% en test, ¡un valor extremadamente alto!\n",
    "\n",
    "Apliquemos SHAP para ver qué palabras están afectando a la clasificación (pues es altamente probable que exista alguna palabra condicionando los resultados hacia un lado en muchos casos, lo que explicaría el valor altísimo de *accuracy* obtenido)."
   ]
  },
  {
   "cell_type": "markdown",
   "metadata": {},
   "source": [
    "### Explicabilidad mediante SHAP"
   ]
  },
  {
   "cell_type": "code",
   "execution_count": null,
   "metadata": {},
   "outputs": [
    {
     "name": "stderr",
     "output_type": "stream",
     "text": [
      "c:\\Users\\guigr\\anaconda3\\envs\\tfm\\Lib\\site-packages\\tqdm\\auto.py:21: TqdmWarning: IProgress not found. Please update jupyter and ipywidgets. See https://ipywidgets.readthedocs.io/en/stable/user_install.html\n",
      "  from .autonotebook import tqdm as notebook_tqdm\n",
      "100%|===================| 17657/17678 [13:48<00:00]        "
     ]
    }
   ],
   "source": [
    "# Es necesario convertir las matrices dispersas a densas\n",
    "X_train_dense = X_train.toarray()\n",
    "X_test_dense = X_test.toarray()\n",
    "\n",
    "# Aplicamos SHAP\n",
    "explainer = shap.Explainer(rf, X_train_dense)\n",
    "shap_values = explainer(X_test_dense)"
   ]
  },
  {
   "cell_type": "code",
   "execution_count": 13,
   "metadata": {},
   "outputs": [
    {
     "data": {
      "text/plain": [
       "(8839, 5000, 2)"
      ]
     },
     "execution_count": 13,
     "metadata": {},
     "output_type": "execute_result"
    }
   ],
   "source": [
    "shap_values.shape"
   ]
  },
  {
   "cell_type": "code",
   "execution_count": 15,
   "metadata": {},
   "outputs": [
    {
     "data": {
      "image/png": "[encoded data removed]",
      "text/plain": [
       "<Figure size 800x950 with 2 Axes>"
      ]
     },
     "metadata": {},
     "output_type": "display_data"
    }
   ],
   "source": [
    "# Obtenemos las palabras de los vectores TF-IDF\n",
    "feature_names = vectorizer.get_feature_names_out()\n",
    "\n",
    "# Elegimos índice a explicar\n",
    "class_index = 0 # En este caso, ¿qué palabras influyen más y menos en que una noticia sea falsa?\n",
    "\n",
    "# Seleccionamos los valores SHAP para dicha clase\n",
    "shap_values_class = shap_values[:, :, class_index]\n",
    "\n",
    "# Mostrar valores SHAP\n",
    "shap.summary_plot(shap_values_class, X_test_dense, feature_names=feature_names)"
   ]
  },
  {
   "cell_type": "markdown",
   "metadata": {},
   "source": [
    "Se puede observar que las palabras *Reuters*, *via* y *Reuter* son las que más influyen en nuestra clasificación.\n",
    "\n",
    "Concretamente, **Reuters** es una de las fuentes de noticias más confiables a nivel mundial, por lo que el modelo tiende a clasificar como verdadera una noticia que contiene en su texto la marca de la agencia (estas palabras tienen un alto impacto negativo en la clasificación como noticia falsa).\n",
    "\n",
    "Por otro lado, el uso de la palabra *via* produce el efecto contrario, favoreciendo la clasificación de la noticia como falsa. Exploraremos esto con más detalle a continuación.\n",
    "\n",
    "El resto de las palabras, como *say*, *image*, *US*, *Washington* o *Minister*, parecen ser más neutras a simple vista."
   ]
  },
  {
   "cell_type": "code",
   "execution_count": 16,
   "metadata": {},
   "outputs": [],
   "source": [
    "# Dividimos el DataFrame en verdadero y falso\n",
    "df_real = df[df['label'] == 1]['clean_text']\n",
    "df_fake = df[df['label'] == 0]['clean_text']"
   ]
  },
  {
   "cell_type": "code",
   "execution_count": 30,
   "metadata": {},
   "outputs": [
    {
     "name": "stdout",
     "output_type": "stream",
     "text": [
      "------------------------------------------------------\n",
      "Number of texts containing the word 'reuters' in REAL DataFrame: 18767\n",
      "Number of texts containing the word 'reuters' in FAKE DataFrame: 180\n",
      "------------------------------------------------------\n",
      "Number of texts containing the word 'via' in REAL DataFrame: 1116\n",
      "Number of texts containing the word 'via' in FAKE DataFrame: 11447\n",
      "------------------------------------------------------\n",
      "Number of texts containing the word 'reuter' in REAL DataFrame: 21378\n",
      "Number of texts containing the word 'reuter' in FAKE DataFrame: 318\n",
      "------------------------------------------------------\n"
     ]
    }
   ],
   "source": [
    "print(\"------------------------------------------------------\")\n",
    "count_reuters = sum(1 for text in df_real if \"reuters\" in text)\n",
    "print(\"Number of texts containing the word 'reuters' in REAL DataFrame:\", count_reuters)\n",
    "count_reuters = sum(1 for text in df_fake if \"reuters\" in text)\n",
    "print(\"Number of texts containing the word 'reuters' in FAKE DataFrame:\", count_reuters)\n",
    "print(\"------------------------------------------------------\")\n",
    "count_via = sum(1 for text in df_real if \"via\" in text)\n",
    "print(\"Number of texts containing the word 'via' in REAL DataFrame:\", count_via)\n",
    "count_via = sum(1 for text in df_fake if \"via\" in text)\n",
    "print(\"Number of texts containing the word 'via' in FAKE DataFrame:\", count_via)\n",
    "print(\"------------------------------------------------------\")\n",
    "count_reuter = sum(1 for text in df_real if \"reuter\" in text)\n",
    "print(\"Number of texts containing the word 'reuter' in REAL DataFrame:\", count_reuter)\n",
    "count_reuter = sum(1 for text in df_fake if \"reuter\" in text)\n",
    "print(\"Number of texts containing the word 'reuter' in FAKE DataFrame:\", count_reuter)\n",
    "print(\"------------------------------------------------------\")"
   ]
  },
  {
   "cell_type": "code",
   "execution_count": 43,
   "metadata": {},
   "outputs": [
    {
     "name": "stdout",
     "output_type": "stream",
     "text": [
      "country spin control obama orchestrate effort race baiter like al sharpton leader black life matter terrorist create divide race like generation never know obama skips supreme court justice anton scalia funeral funeral iconic first lady nancy reagan find time take pot shot gop presidential frontrunner donald trump attend hipster festival michelle barack prove time desire behave like leader go tell european need relate eu hear baron today current president planning go britain make case public stay european union momentarily stun happen lead behind let country handle affairsby jade president nothing free nothing eventual payoff sticking nose britain affairs come surprise give track record last interminable year time officeor maybe know deeply dislike anyone sign onto pathetic peace prize back beginning reign maybe believe sycophantic press tell wait use kind reverse psychology british ie know much hold contempt anything suggest would oppose nah far remove reality grasp conceptso london mayor boris johnson take subject far interesting follow national government figure would via gate viennathese excerpt telegraph thing mr get wrong extent obama undermine america sovereignty particularly southern border subject change culture monolingual character one could say mr obama decision drop lecture brit particular subject contradictory congruent behavior sentiment regard america sovereigntyobviously mr johnson pay attention american presidential campaign would do though see unprecedented populist follow donald trump base theme sovereigntywe want back one piecei love america believe american dream indeed hold story past year largely america rise global greatness america helped preserve expand democracy around world two global conflict throughout cold war united states fight founding ideal republic government people people people perish earthso face bit peculiar us government official believe britain must remain within eu system democracy increasingly underminedsome time next couple month tell president obama go arrive country like deus ex machina pronounce matter air force one touch lectern presidential seal erect british people tell good right thing inform important ally interest stay eu matter flawed may feel organisation never mind loss sovereignty never mind expense bureaucracy uncontrolle immigrationthe american view clear whether code en clair president tell we uk membership eu right britain right europe right america tell way influence counsel nationsit important argument deserve take seriously also think wholly fallacious come uncle sam piece outrageous exorbitant hypocrisythere country world defend sovereignty hysterical vigilance united states america nation bear glorious refusal accept overseas control almost two half century ago american colonist rise violently assert principle alone determine government america george iii minister day americans refuse kneel almost kind international jurisdiction alone western nation we decline accept citizen subject ruling international criminal court hague even sign convention law sea imagine americans submit democracy kind regime euso essential britain comply system americans would reject hand blatant case say entire letter go telegraph\n",
      "presence kind privilege put unnecessary pressure people colour defend anger frustration fear outcome share story vajdaan tanveer rsu coordinatoryou make stuff white people experience racism firstyear journalism student trevor hewitt julia knope tell victim racialization allow stay meeting room report eventhewitt knope say make eye contact unidentified woman appeared set event approach hewitt knope ask ever racializedhewitt say tell woman want cover meeting assignment say woman tell racialize student could sit meet hewitt knope leave room feel really bad kind embarrassing knope say goal meeting end racialization need something everybody involve people cause problem need know group go accomplish anything racialize student collective part ryerson student union rsu website state group oppose form racism work towards community wellness student focus build antiracist network foster antiracist environment campuswide service campaign event knope say understand support group want other understand event list public rsu campaign seem really ironic meeting racialization prohibit certain people enter say right almost like suggest make racialization go away everyone racialize talk magically go away hewitt addedrsu coordinator vajdaan tanveer tell ryersonian phone member collective request safe space campus open conversation want racialize student feel intimidate speak mind afraid judge something say might use saidwhen ask hewitt knope incident tanveer confirm attend meet white term educate event public say use opportunity tell work get involve via whiterabbitradionet\n",
      "thank president obamain democratic national convention barack obama take stage declare red state america blue state america united states america night dad tell we would president one daythen four year later fulfil dad prophecyeight year ago support hillary clinton contentious bitter primary ready first woman president think go win could notand long journey country begani look around see comfortable life live start crack along every american citizen easy life live postclinton thing pastthe economy collapse people suffer uncertainty plague every household every employee every employerit seem hope great country foundation hold lose teacher firefighter office worker nurse wait pink slip homeowner wait foreclosure notice sick senior dread medical billsthen flash screen hope changehandsome charismatic dignified junior senator illinois one really hear enter life give we hope message shine bright million americans good day ahead work together trust one another would prevail change could believe boy believe itand believe ever great man prepare leave office even face oncoming trump administrationthe fact remain deficit cut twothird stock market hit high point history still continues grow eleven million job create million americans healthcare auto industry save wage race income first time decade samesex marriage law land pentagon open door woman area expertisein word country change well hope perseverance president obama get we see around much well truth right front eye need fact tell we certainly hurt front debatenow mean perfect tpp large scale use drone failure fully communicate obamacare need strong government irk time unlike leftwe rightwing ideology never look pure presidentno one perfect never govern perfectlyso absolutely help republicans congressional state president obama never waver commitment allow american citizen indulge promise man create equal endow creator life liberty pursuit happinesswe liberty believe happy nation himpresident obama inspire pursue happiness sophomore college currently work degree political science hope go law school specialize constitutional law utilize resource bring change good change washington dc political writer enter fourth year grind passion politic paper passion anger hope sense accomplishment write share world owe president obamai burn many bridge end couple friendship argue lot people defend president obama policy one regret would againi come age era obama world view politic culture shape large part publication put consequential president modern americahis presidency mark dignity grace scandal gift america people show we calm collect family man south side chicago could little bit hope yearn change black man funny name put grow without father white mother grandparent transform face nation generation comehow profound thati miss calm cool demeanor time crisis miss love inspire message hope miss family especially michelle first lady pinnacle elegancethank president obama president help naive politically inept year old grow passionate firedup year old want grow good fellow manpresident obama build yes yes didfeature image via white house\n",
      "like mother like daughter chelsea difficult accord insider know former clintonite hillary cuss like sailor really hammer people perhaps case know chelsea know difficult work chelsea clinton unpleasant colleague cause high turnover bill hillary chelsea clinton foundation source say several top staffer leave foundation since chelsea come onboard vice chairman lot people leave lot people leave want insider tell difficult onetime ceo bruce lindsey push upstairs position chairman board two year ago chelsea could bring mckinsey colleague eric braverman boy try hire communication professional actually try run place understand suppose say source push matt mckenna chelsea spokesman work uber ginny ehrlich found ceo clinton health matter initiative work robert wood johnson foundationvia ny post\n",
      "rand try separate crowded pack gop presidential contender ratchet antiwar rhetoric gain much attention dad first gop presidential debate approach republican senator presidential candidate rand paul launch bomb crowd field attempt differentiate candidatessenator paul tell leftist washington post iowa weekend gop candidate want blow world significant difference rest gop field plan make case first debate thursdayaccording post paul say debate pit gop candidate want send half million son daughter back iraq ask gop candidate whether want always intervene every civil war around world via politistick\n"
     ]
    }
   ],
   "source": [
    "# Search for sentences with the word \"via\" in them\n",
    "sentences_with_via = [text for text in X if \"via\" in text][:5]\n",
    "\n",
    "# Print the sentences\n",
    "for sentence in sentences_with_via:\n",
    "    print(sentence)"
   ]
  },
  {
   "cell_type": "markdown",
   "metadata": {},
   "source": [
    "Acabamos de observar cómo:\n",
    "- La palabra *Reuters* aparece en aproximadamente un **88%** del DataFrame de noticias **reales** y tan sólo en un **0.8%** del DataFrame de noticias **falsas**.\n",
    "- La palabra *Reuter* aparece en aproximadamente un **99.8%** del DataFrame de noticias **reales** y tan sólo en un **1.4%** del DataFrame de noticias **falsas**.\n",
    "- Aunque la diferencia se reduce, la palabra *via* aparece en solo un **5.2%** del DataFrame de noticias **reales**, mientras que está presente en un **50.2%** del DataFrame de noticias **falsas**. Además, al analizar ejemplos de frases que contienen esta palabra, se observa que suelen hacer referencia a fuentes de información que podrían percibirse como menos confiables que Reuters o incluso inventadas, como *via WhiteRabbitRadio.net*, via NY Post, *via Politistick* o *via White House*."
   ]
  },
  {
   "cell_type": "markdown",
   "metadata": {},
   "source": [
    "Dado que el Dataset original de noticias reales podría provenir de **Reuters**, se eliminarán las palabras *Reuter*/*Reuters* de los textos para evitar que influyan excesivamente en la clasificación.\n",
    "\n",
    "Sin embargo, otras palabras más neutrales, como *via*, así como las identificadas en el análisis con **SHAP**, incluidas diversas *fuentes de información*, se mantendrán. \n",
    "\n",
    "El objetivo es que el modelo aprenda a identificar relaciones más complejas entre palabras para determinar si una noticia es real o falsa, en lugar de basarse únicamente en la mención de un medio confiable. Por ello, repetiremos el experimento tras la eliminación."
   ]
  },
  {
   "cell_type": "markdown",
   "metadata": {},
   "source": [
    "# Vectorización TF-IDF + Clasificación mediante Random Forest"
   ]
  },
  {
   "cell_type": "code",
   "execution_count": null,
   "metadata": {},
   "outputs": [
    {
     "data": {
      "text/plain": [
       "(44193, 3)"
      ]
     },
     "execution_count": 45,
     "metadata": {},
     "output_type": "execute_result"
    }
   ],
   "source": [
    "df = pd.read_csv(\"Datasets/CleanedFakeAndRealNews.csv\")\n",
    "# Eliminar la palabra \"reuter\" y \"reuters\" de los textos\n",
    "df[\"clean_text\"] = df[\"clean_text\"].str.replace(r\"\\b(reuter|reuters)\\b\", \"\", regex=True)\n",
    "df.shape # Mantenemos el mismo número de filas"
   ]
  },
  {
   "cell_type": "code",
   "execution_count": 47,
   "metadata": {},
   "outputs": [
    {
     "name": "stdout",
     "output_type": "stream",
     "text": [
      "Precisión: 0.9832560244371535\n"
     ]
    }
   ],
   "source": [
    "# Dividimos los datos en entrenamiento y prueba\n",
    "X = df[\"clean_text\"]\n",
    "y = df[\"label\"]\n",
    "X_train, X_test, y_train, y_test = train_test_split(X, y, test_size=0.2, random_state=42)\n",
    "\n",
    "# Definimos y utilizamos vectorizador TF-IDF\n",
    "vectorizer = TfidfVectorizer(max_features=5000)  # 5000 palabras más importantes (ordenadas por frecuencia de aparición en el corpus)\n",
    "X_train = vectorizer.fit_transform(X_train)\n",
    "X_test = vectorizer.transform(X_test)\n",
    "\n",
    "# Entrenar modelo \n",
    "rf = RandomForestClassifier(n_estimators=100)\n",
    "rf.fit(X_train, y_train) \n",
    " \n",
    "# Evaluación en test\n",
    "y_pred = rf.predict(X_test)\n",
    "print(\"Precisión:\", accuracy_score(y_test, y_pred))"
   ]
  },
  {
   "cell_type": "markdown",
   "metadata": {},
   "source": [
    "La precisión ha bajado únicamente un 1%, lo cual sigue siendo un resultado muy bueno (**98,3%** en test). Veamos la explicabilidad con SHAP de nuevo."
   ]
  },
  {
   "cell_type": "code",
   "execution_count": null,
   "metadata": {},
   "outputs": [
    {
     "name": "stderr",
     "output_type": "stream",
     "text": [
      "  2%|                   | 326/17678 [00:20<17:44]       "
     ]
    }
   ],
   "source": [
    "# Es necesario convertir las matrices dispersas a densas\n",
    "X_train_dense = X_train.toarray()\n",
    "X_test_dense = X_test.toarray()\n",
    "\n",
    "# Aplicamos SHAP\n",
    "explainer = shap.Explainer(rf, X_train_dense)\n",
    "shap_values = explainer(X_test_dense)\n",
    "\n",
    "# Obtenemos las palabras de los vectores TF-IDF\n",
    "feature_names = vectorizer.get_feature_names_out()\n",
    "\n",
    "# Elegimos índice a explicar\n",
    "class_index = 0 # En este caso, ¿qué palabras influyen más y menos en que una noticia sea falsa?\n",
    "\n",
    "# Seleccionamos los valores SHAP para dicha clase\n",
    "shap_values_class = shap_values[:, :, class_index]\n",
    "\n",
    "# Mostrar valores SHAP\n",
    "shap.summary_plot(shap_values_class, X_test_dense, feature_names=feature_names)"
   ]
  }
 ],
 "metadata": {
  "kernelspec": {
   "display_name": "tfm",
   "language": "python",
   "name": "python3"
  },
  "language_info": {
   "codemirror_mode": {
    "name": "ipython",
    "version": 3
   },
   "file_extension": ".py",
   "mimetype": "text/x-python",
   "name": "python",
   "nbconvert_exporter": "python",
   "pygments_lexer": "ipython3",
   "version": "3.11.11"
  }
 },
 "nbformat": 4,
 "nbformat_minor": 2
}
